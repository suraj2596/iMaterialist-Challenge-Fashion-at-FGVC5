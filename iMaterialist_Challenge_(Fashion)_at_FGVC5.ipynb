{
  "nbformat": 4,
  "nbformat_minor": 0,
  "metadata": {
    "colab": {
      "name": "iMaterialist Challenge (Fashion) at FGVC5.ipynb",
      "version": "0.3.2",
      "views": {},
      "default_view": {},
      "provenance": [],
      "collapsed_sections": []
    },
    "kernelspec": {
      "name": "python2",
      "display_name": "Python 2"
    }
  },
  "cells": [
    {
      "metadata": {
        "id": "HdMyi2D4-6YC",
        "colab_type": "text"
      },
      "cell_type": "markdown",
      "source": [
        "# **This notebook is for linking, authenticating and downloading the Image data sets from json files directly into your Google Drive**"
      ]
    },
    {
      "metadata": {
        "id": "IzJv9UUti_og",
        "colab_type": "text"
      },
      "cell_type": "markdown",
      "source": [
        "\n",
        "###Features:\n",
        "1.   Smaller version of images can be found by replacing \"-large\" with \"-small\" at the end of url. In this code, the small picture (around 5 kb on average) are downloaded.\n",
        "2.   This script has been built for Colab users. As the instance gets destroyed every 12 hours, one can't download datasets everytime.\n",
        "3.   Also, if you have a locally available GPU and want to download images to your drive (and then to your computer on one click), you can use this script. \n",
        "4.   This notebook can be used to download data to drive for any competition that gives urls in JSON files (ofcourse with little modifications).\n",
        "\n"
      ]
    },
    {
      "metadata": {
        "id": "F_r1e_f2nCKK",
        "colab_type": "text"
      },
      "cell_type": "markdown",
      "source": [
        "###Instructions:\n",
        "\n",
        "\n",
        "1.   Carefully read the comments mentioned. They are there for a reason!\n",
        "2.   You can also add your code and modify it!\n",
        "3.   Feedback is valuable guys. Lemme know what you thinking. \n",
        "\n"
      ]
    },
    {
      "metadata": {
        "id": "RNuqhVm2oLAw",
        "colab_type": "text"
      },
      "cell_type": "markdown",
      "source": [
        "Well, lets get started..."
      ]
    },
    {
      "metadata": {
        "id": "GKHwTTZg5eJa",
        "colab_type": "code",
        "colab": {
          "autoexec": {
            "startup": false,
            "wait_interval": 0
          }
        }
      },
      "cell_type": "code",
      "source": [
        "#Linking drive to colab to store datasets\n",
        "!apt-get install -y -qq software-properties-common python-software-properties module-init-tools\n",
        "!add-apt-repository -y ppa:alessandro-strada/ppa 2>&1 > /dev/null\n",
        "!apt-get update -qq 2>&1 > /dev/null\n",
        "!apt-get -y install -qq google-drive-ocamlfuse fuse"
      ],
      "execution_count": 0,
      "outputs": []
    },
    {
      "metadata": {
        "id": "WcT_t6L1L6CQ",
        "colab_type": "code",
        "colab": {
          "autoexec": {
            "startup": false,
            "wait_interval": 0
          }
        }
      },
      "cell_type": "code",
      "source": [
        "# Generate auth tokens for Colab\n",
        "from google.colab import auth\n",
        "auth.authenticate_user()"
      ],
      "execution_count": 0,
      "outputs": []
    },
    {
      "metadata": {
        "id": "r8NO1DnqL8ZW",
        "colab_type": "code",
        "colab": {
          "autoexec": {
            "startup": false,
            "wait_interval": 0
          }
        }
      },
      "cell_type": "code",
      "source": [
        "# Generate creds for the Drive FUSE library. Though the link asks you to verify twice, you don't have to!\n",
        "from oauth2client.client import GoogleCredentials\n",
        "creds = GoogleCredentials.get_application_default()\n",
        "import getpass\n",
        "!google-drive-ocamlfuse -headless -id={creds.client_id} -secret={creds.client_secret} < /dev/null 2>&1 | grep URL\n",
        "vcode = getpass.getpass()\n",
        "!echo {vcode} | google-drive-ocamlfuse -headless -id={creds.client_id} -secret={creds.client_secret}"
      ],
      "execution_count": 0,
      "outputs": []
    },
    {
      "metadata": {
        "id": "KTRy3vPxL-NC",
        "colab_type": "code",
        "colab": {
          "autoexec": {
            "startup": false,
            "wait_interval": 0
          }
        }
      },
      "cell_type": "code",
      "source": [
        "# Create a directory and mount Google Drive using that directory.\n",
        "!mkdir -p drive\n",
        "!google-drive-ocamlfuse drive\n",
        "\n",
        "print 'Files in Drive:'\n",
        "!ls drive/"
      ],
      "execution_count": 0,
      "outputs": []
    },
    {
      "metadata": {
        "id": "8LcRSRL2FTXI",
        "colab_type": "code",
        "colab": {
          "autoexec": {
            "startup": false,
            "wait_interval": 0
          }
        }
      },
      "cell_type": "code",
      "source": [
        "# Create a file in a new directory called \"Kaggle\" in your Google Drive. This will be your operation base :P\n",
        "!echo \"This newly created file will appear in your Drive file list. If you are reading this, that means the attempt to integrate was successful\" > drive/kaggle/created.txt"
      ],
      "execution_count": 0,
      "outputs": []
    },
    {
      "metadata": {
        "id": "ISxFR2GdjX_-",
        "colab_type": "text"
      },
      "cell_type": "markdown",
      "source": [
        "*Tried integrating kaggle-api into colab's instance. But it's throwing error:401 (Unauthorized). So, you have to manually upload the json files to \"kaggle\" folder in your drive!\n",
        "*"
      ]
    },
    {
      "metadata": {
        "id": "3DvUTP0UDjwQ",
        "colab_type": "code",
        "colab": {
          "autoexec": {
            "startup": false,
            "wait_interval": 0
          }
        }
      },
      "cell_type": "code",
      "source": [
        "#The uploaded files are in .zip format. The following code will unzip them into nice json files. This has to be done only the first time!\n",
        "!unzip \"drive/kaggle/*.zip\" -d drive/kaggle\n",
        "\n",
        "#Now, remove those archives\n",
        "!rm -f drive/kaggle/*.zip\n",
        "\n",
        "#Make directories for the data\n",
        "!mkdir drive/kaggle/train drive/kaggle/validation drive/kaggle/test"
      ],
      "execution_count": 0,
      "outputs": []
    },
    {
      "metadata": {
        "id": "MPm3yuVEkuV6",
        "colab_type": "code",
        "colab": {
          "autoexec": {
            "startup": false,
            "wait_interval": 0
          }
        }
      },
      "cell_type": "code",
      "source": [
        "#Now, to download the train set into your drive from the urls in the JSON files, execute the below.  Also, a file is generated with the ImageURL, imageName, imageId and \n",
        "#their labelIds.\n",
        "\n",
        "\n",
        "import json\n",
        "import time\n",
        "\n",
        "train_data = json.load(open('drive/kaggle/train.json'))\n",
        "!echo ImageURL, ImgName, ImgId, LabelId >> drive/kaggle/train/train.txt\n",
        "\n",
        "for i in range(len(train_data['images'])):\n",
        "  img_url = train_data['images'][i]['url']\n",
        "  img_id = train_data['images'][i]['imageId']\n",
        "  label_id = train_data['annotations'][i]['labelId']\n",
        "  img_name=img_url.split(\"/\")[-1]\n",
        "  #print img_name\n",
        "  img_name_actual = img_name.split(\"-\")[0]\n",
        "  img_name_small = img_name_actual + \"-small\"+\".jpg\"\n",
        "  #print img_name_actual\n",
        "  img_url_small = img_url.split(\"-\")[-2]\n",
        "  img_url_small = img_url_small + \"-small\"\n",
        "  print img_url_small\n",
        "  !curl $img_url_small > drive/kaggle/train/$img_name_small\n",
        "  time.sleep(0.05) \n",
        "  !echo $img_url_small,$img_name_small,$img_id,$label_id >> drive/kaggle/train/train.txt \n",
        "  #time.sleep(0.5)"
      ],
      "execution_count": 0,
      "outputs": []
    },
    {
      "metadata": {
        "id": "LHtp2PhSteDE",
        "colab_type": "code",
        "colab": {
          "autoexec": {
            "startup": false,
            "wait_interval": 0
          }
        }
      },
      "cell_type": "code",
      "source": [
        "#To download validation data on to your drive...\n",
        "\n",
        "import json\n",
        "import time\n",
        "\n",
        "val_data = json.load(open('drive/kaggle/validation.json'))\n",
        "!echo ImageURL, ImgName, ImgId, LabelId >> drive/kaggle/validation/validation.txt \n",
        "\n",
        "for i in range(len(val_data['images'])):\n",
        "  img_url = val_data['images'][i]['url']\n",
        "  #print img_url\n",
        "  img_id = val_data['images'][i]['imageId']\n",
        "  #print img_id\n",
        "  label_id = val_data['annotations'][i]['labelId']\n",
        "  #print label_id\n",
        "  img_name=img_url.split(\"/\")[-1]\n",
        "  #print img_name\n",
        "  img_name_actual = img_name.split(\"-\")[0]\n",
        "  img_name_small = img_name_actual + \"-small\"+\".jpg\"\n",
        "  #print img_name_actual\n",
        "  img_url_small = img_url.split(\"-\")[-2]\n",
        "  img_url_small = img_url_small + \"-small\"\n",
        "  print img_url_small\n",
        "  !curl $img_url_small > drive/kaggle/validation/$img_name_small\n",
        "  time.sleep(0.05)\n",
        "  !echo $img_name_actual,$img_id,$label_id >> drive/kaggle/validation/validation.txt \n",
        "  #time.sleep(0.05)"
      ],
      "execution_count": 0,
      "outputs": []
    },
    {
      "metadata": {
        "id": "iuPd7QQFKHM2",
        "colab_type": "code",
        "colab": {
          "autoexec": {
            "startup": false,
            "wait_interval": 0
          }
        }
      },
      "cell_type": "code",
      "source": [
        "#And this is for downloading test data into your drive\n",
        "\n",
        "import json\n",
        "import time\n",
        "\n",
        "test_data = json.load(open('drive/kaggle/test.json'))\n",
        "#print len(test_data['images'])\n",
        "\n",
        "for i in range(len(test_data['images'])):\n",
        "  img_url = test_data['images'][i]['url']\n",
        "  #print img_url\n",
        "  img_id = test_data['images'][i]['imageId']\n",
        "  #print img_id\n",
        "  img_name=img_url.split(\"/\")[-1]\n",
        "  #print img_name\n",
        "  img_name_actual = img_name.split(\"-\")[0]\n",
        "  img_name_small = img_name_actual + \"-small\"+\".jpg\"\n",
        "  #print img_name_actual\n",
        "  img_url_small = img_url.split(\"-\")[-2]\n",
        "  img_url_small = img_url_small + \"-small\"\n",
        "  print img_url_small\n",
        "  !curl $img_url_small > drive/kaggle/test/$img_name_small\n",
        "  time.sleep(0.05)\n",
        "  "
      ],
      "execution_count": 0,
      "outputs": []
    },
    {
      "metadata": {
        "id": "PcHBDoTRpChw",
        "colab_type": "text"
      },
      "cell_type": "markdown",
      "source": [
        "###Note\n",
        "\n",
        "1.   This is it for now. Later, I shall include EDA and hopefully the actual CV architecture part! But boy, those data sets are too hot to handle :P\n",
        "\n",
        "2.   And yes, too large too! Anyway, it seems really fun to play with this dataset! Good luck to everyone!!\n",
        "\n",
        "**Upvote this kernel if you find it useful so that others can find it easily.**"
      ]
    }
  ]
}